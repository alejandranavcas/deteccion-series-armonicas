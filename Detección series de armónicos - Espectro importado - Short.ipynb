{
 "cells": [
  {
   "cell_type": "markdown",
   "id": "cec51fc8",
   "metadata": {},
   "source": [
    "# ALGORITMO PARA IDENTIFICACIÓN SERIES DE ARMÓNICOS\n",
    "\n",
    "El objetivo de este programa es identificar las series de armónicos más importantes de un espectro de frecuencias dado.\n",
    "\n",
    "El esquema principal de este script es:\n",
    "* Importar el fichero de datos de un espectro de frecuencias (en formato csv)\n",
    "    * Modificar el espectro si éste tiene ski-slope\n",
    "* Detectar picos e incertidumbres de los mismos:\n",
    "    * Detección de picos con la función *encontrar_picos*\n",
    "    * Funciones auxiliares creadas: *_peak_prominences*, *_peak_widths*\n",
    "    * Cálculo de las incertidumbres\n",
    "* Interpolación del espectro para estimar y corregir la localización de los picos\n",
    "    * Función utilizada: *peak_estimator* con tipo de ventana: 'hann' o 'rect'\n",
    "* Recalcular la incertidumbre de los picos\n",
    "* Guardar todos los datos de picos e incertidumbres en un DataFrame\n",
    "* Algoritmo principal de detección de series de armónicos\n",
    "    * Introducción al algoritmo\n",
    "    * Funciones auxiliares\n",
    "    * Detección de series de armónicos\n",
    "    * Criterios de clasificación de las series encontradas\n",
    "    * Resultados obtenidos"
   ]
  },
  {
   "cell_type": "code",
   "execution_count": 13,
   "id": "e04c6e5d",
   "metadata": {},
   "outputs": [],
   "source": [
    "from functions import encontrar_picos, _peak_prominences, _peak_widths, "
   ]
  },
  {
   "cell_type": "markdown",
   "id": "a2a566b0",
   "metadata": {},
   "source": [
    "## Importar los datos de un espectro de frecuencias"
   ]
  },
  {
   "cell_type": "code",
   "execution_count": 14,
   "id": "8b55dee5",
   "metadata": {
    "scrolled": true
   },
   "outputs": [
    {
     "data": {
      "text/plain": [
       "array([[3.125000e+00, 6.970920e-01],\n",
       "       [4.687500e+00, 6.532500e-01],\n",
       "       [6.250000e+00, 7.628560e-01],\n",
       "       ...,\n",
       "       [4.995313e+03, 1.439000e-03],\n",
       "       [4.996875e+03, 8.610000e-04],\n",
       "       [4.998438e+03, 1.147000e-03]])"
      ]
     },
     "metadata": {},
     "output_type": "display_data"
    },
    {
     "data": {
      "image/png": "[encoded data removed]",
      "text/plain": [
       "<Figure size 432x288 with 1 Axes>"
      ]
     },
     "metadata": {
      "needs_background": "light"
     },
     "output_type": "display_data"
    }
   ],
   "source": [
    "#### CARGAR DOCUMENTO CSV ####\n",
    "\n",
    "datos = 'Machine 2 - C1V.csv'\n",
    "\n",
    "import numpy as np\n",
    "import matplotlib.pyplot as plt\n",
    "\n",
    "data = np.loadtxt(datos, delimiter=',', skiprows=1) #separador decimales: .\n",
    "                                                    #separador columnas: ,\n",
    "                                                    #skiprows: cuantas lineas iniciales me salto\n",
    "# Mostramos los datos\n",
    "display(data)\n",
    "frecuencias = data[:,0]\n",
    "amplitudes = data[:,1]\n",
    "\n",
    "# Mostramos la gráfica\n",
    "plt.plot(frecuencias, amplitudes)\n",
    "plt.xlabel('Frecuencia (Hz)')\n",
    "plt.ylabel('Amplitud')\n",
    "plt.title('Espectro de frecuencias del conjunto de datos\\n'+datos, fontsize='14')\n",
    "plt.grid()"
   ]
  },
  {
   "cell_type": "markdown",
   "id": "a2466725",
   "metadata": {},
   "source": [
    "### Modificar el espectro si éste tiene ski-slope\n",
    "\n",
    "Modificamos la señal transformando los primeros *nceros* valores a 0.\n",
    "\n",
    "*Nota: para modificar el espectro también existe otra técnica que es integrar la señal.*"
   ]
  },
  {
   "cell_type": "code",
   "execution_count": 15,
   "id": "8a2def9e",
   "metadata": {},
   "outputs": [
    {
     "data": {
      "text/plain": [
       "\"\\nnceros = 100\\namplitudes[0:100] = [0]*nceros\\n\\nplt.plot(frecuencias, amplitudes)\\nplt.xlabel('Frecuencia (Hz)')\\nplt.ylabel('Amplitud')\\nplt.title('Espectro de frecuencias del conjunto de datos\\n'+datos, fontsize='14')\\n\""
      ]
     },
     "execution_count": 15,
     "metadata": {},
     "output_type": "execute_result"
    }
   ],
   "source": [
    "# Modificar la variable nceros para eliminar el \"ski-slope\"\n",
    "\"\"\"\n",
    "nceros = 100\n",
    "amplitudes[0:100] = [0]*nceros\n",
    "\n",
    "plt.plot(frecuencias, amplitudes)\n",
    "plt.xlabel('Frecuencia (Hz)')\n",
    "plt.ylabel('Amplitud')\n",
    "plt.title('Espectro de frecuencias del conjunto de datos\\n'+datos, fontsize='14')\n",
    "\"\"\""
   ]
  },
  {
   "cell_type": "markdown",
   "id": "5f4ec78e",
   "metadata": {},
   "source": [
    "## Detección de picos e incertidumbre de los mismos"
   ]
  },
  {
   "cell_type": "code",
   "execution_count": 16,
   "id": "feb4a155",
   "metadata": {},
   "outputs": [],
   "source": [
    "s = np.std(amplitudes) #calculo la desviacion tipica de las amplitudes\n",
    "\n",
    "#### MODIFICAR LOS SIGUIENTES PARÁMETROS PARA LA DETECCION DE PICOS E INCERTIDUMBRES\n",
    "\n",
    "altura_pico = s          # Minima altura para detectar un pico en la gráfica\n",
    "altura_relativa = 0.75   # Altura relativa a la cual se mide la anchura del pico (en porcentaje con respecto a su prominencia)\n",
    "                         # 1 significa que se mide desde la base del pico.\n",
    "prominencia = None       # Prominencia: Desnivel mínimo que hay que descender desde la cima de un pico para ascender a otro, cualquiera que sea, más alto.\n"
   ]
  },
  {
   "cell_type": "markdown",
   "id": "4e71248a",
   "metadata": {},
   "source": [
    "###### Detección de los picos\n",
    "\n",
    "Artículo de Medium \"Algorithmic Thinking and Peak Finding\": \n",
    "https://rabingaire.medium.com/algorithmic-thinking-peak-finding-ad6f7415d154"
   ]
  },
  {
   "cell_type": "code",
   "execution_count": 17,
   "id": "3573eb61",
   "metadata": {},
   "outputs": [
    {
     "name": "stdout",
     "output_type": "stream",
     "text": [
      "Se han detectado 55 picos. Con los siguientes indices: [2, 8, 15, 19, 22, 29, 36, 39, 50, 60, 111, 122, 126, 156, 184, 198, 246, 266, 308, 370, 376, 379, 398, 403, 407, 415, 431, 446, 494, 566, 646, 799, 803, 846, 848, 927, 951, 958, 982, 985, 989, 999, 1006, 1015, 1030, 1032, 1040, 1046, 1051, 1069, 1082, 1199, 1237, 1247, 1599]\n"
     ]
    }
   ],
   "source": [
    "peaks = encontrar_picos(amplitudes, altura_pico)\n",
    "print(\"Se han detectado\", len(peaks), \"picos. Con los siguientes indices:\", peaks) #cuantos picos hay detectados"
   ]
  },
  {
   "cell_type": "markdown",
   "id": "9c9415a1",
   "metadata": {},
   "source": [
    "###### Funciones de Github para encontrar las incertidumbres\n",
    "\n",
    "Para encontrar los intervalos de incertidumbre alrededor de todos los picos detectados, se van a utilizar algunas de las funciones ya creadas de la librería *scipy*. La idea es imitar el funcionamiento de la función *peak_widths (https://github.com/scipy/scipy/blob/v1.8.0/scipy/signal/_peak_finding.py#L462-L587)*.\n",
    "\n",
    "Para ello, se han transcrito y modificado ligeramente las funciones *_peak_prominences* y *_peak_widths* que se encuentran en el siguiente enlace: https://github.com/scipy/scipy/blob/main/scipy/signal/_peak_finding_utils.pyx"
   ]
  },
  {
   "cell_type": "markdown",
   "id": "a7dc36ef",
   "metadata": {},
   "source": [
    "##### Cálculo de las incertidumbres\n",
    "Calculamos las prominencias, anchuras y extremos izquierdo y derecho de las incertidumbres con la ayuda de las funciones auxiliares anteriores."
   ]
  },
  {
   "cell_type": "code",
   "execution_count": 12,
   "id": "eafc90a0",
   "metadata": {},
   "outputs": [
    {
     "ename": "NameError",
     "evalue": "name '_peak_widths' is not defined",
     "output_type": "error",
     "traceback": [
      "\u001b[0;31m---------------------------------------------------------------------------\u001b[0m",
      "\u001b[0;31mNameError\u001b[0m                                 Traceback (most recent call last)",
      "\u001b[0;32m/var/folders/8z/056rl9m15xqdp64zymjctkm40000gn/T/ipykernel_10722/1847347194.py\u001b[0m in \u001b[0;36m<module>\u001b[0;34m\u001b[0m\n\u001b[1;32m      1\u001b[0m \u001b[0mprominences\u001b[0m\u001b[0;34m,\u001b[0m \u001b[0mleft_bases\u001b[0m\u001b[0;34m,\u001b[0m \u001b[0mright_bases\u001b[0m \u001b[0;34m=\u001b[0m \u001b[0m_peak_prominences\u001b[0m\u001b[0;34m(\u001b[0m\u001b[0mamplitudes\u001b[0m\u001b[0;34m,\u001b[0m \u001b[0mpeaks\u001b[0m\u001b[0;34m,\u001b[0m \u001b[0;36m1\u001b[0m\u001b[0;34m)\u001b[0m\u001b[0;34m\u001b[0m\u001b[0;34m\u001b[0m\u001b[0m\n\u001b[0;32m----> 2\u001b[0;31m \u001b[0mwidths\u001b[0m\u001b[0;34m,\u001b[0m \u001b[0mwidth_heights\u001b[0m\u001b[0;34m,\u001b[0m \u001b[0mleft_ips\u001b[0m\u001b[0;34m,\u001b[0m \u001b[0mright_ips\u001b[0m \u001b[0;34m=\u001b[0m \u001b[0m_peak_widths\u001b[0m\u001b[0;34m(\u001b[0m\u001b[0mamplitudes\u001b[0m\u001b[0;34m,\u001b[0m \u001b[0mpeaks\u001b[0m\u001b[0;34m,\u001b[0m \u001b[0maltura_relativa\u001b[0m\u001b[0;34m,\u001b[0m \u001b[0mprominences\u001b[0m\u001b[0;34m,\u001b[0m \u001b[0mleft_bases\u001b[0m\u001b[0;34m,\u001b[0m \u001b[0mright_bases\u001b[0m\u001b[0;34m)\u001b[0m\u001b[0;34m\u001b[0m\u001b[0;34m\u001b[0m\u001b[0m\n\u001b[0m\u001b[1;32m      3\u001b[0m \u001b[0;34m\u001b[0m\u001b[0m\n\u001b[1;32m      4\u001b[0m \u001b[0;31m# Calculamos los valores de frecuencia (Hz) de los extremos izquierdos y derechos de las incertidumbres de cada pico\u001b[0m\u001b[0;34m\u001b[0m\u001b[0;34m\u001b[0m\u001b[0;34m\u001b[0m\u001b[0m\n\u001b[1;32m      5\u001b[0m \u001b[0mleft_cotas\u001b[0m \u001b[0;34m=\u001b[0m \u001b[0;34m[\u001b[0m\u001b[0;34m]\u001b[0m\u001b[0;34m\u001b[0m\u001b[0;34m\u001b[0m\u001b[0m\n",
      "\u001b[0;31mNameError\u001b[0m: name '_peak_widths' is not defined"
     ]
    }
   ],
   "source": [
    "prominences, left_bases, right_bases = _peak_prominences(amplitudes, peaks, 1)\n",
    "widths, width_heights, left_ips, right_ips = _peak_widths(amplitudes, peaks, altura_relativa, prominences, left_bases, right_bases)\n",
    "\n",
    "# Calculamos los valores de frecuencia (Hz) de los extremos izquierdos y derechos de las incertidumbres de cada pico\n",
    "left_cotas = []\n",
    "right_cotas = []\n",
    "\n",
    "for p in range(len(peaks)):\n",
    "    entera_l = int(left_ips[p])\n",
    "    decimal_l = left_ips[p] - entera_l\n",
    "    entera_r = int(right_ips[p])\n",
    "    decimal_r = right_ips[p] - entera_r\n",
    "    \n",
    "    left_cotas.append((frecuencias[entera_l+1]-frecuencias[entera_l])*decimal_l + frecuencias[entera_l])\n",
    "    right_cotas.append((frecuencias[entera_r+1]-frecuencias[entera_r])*decimal_r + frecuencias[entera_r])\n",
    "    \n",
    "# Calculamos los valores de incertidumbre en términos de valores de frecuencia (Hz)\n",
    "widths_new = np.array(right_cotas) - np.array(left_cotas)\n",
    "widths = widths_new.copy()"
   ]
  },
  {
   "cell_type": "code",
   "execution_count": null,
   "id": "04c94294",
   "metadata": {},
   "outputs": [],
   "source": [
    "# Resumen y gráfica\n",
    "print(\"Se han detectado\", len(peaks), \"picos con los siguientes indices:\", peaks)\n",
    "print(\"\\nLos picos corresponden a las siguientes frecuencias: \", frecuencias[peaks])\n",
    "print(\"\\nA estos picos se les asocia los siguientes\", len(widths), \"valores de incertidumbre:\", widths)\n",
    "\n",
    "## Graficar las incertidumbres de cada pico\n",
    "from matplotlib.patches import Rectangle\n",
    "\n",
    "fig, ax = plt.subplots()\n",
    "ax.plot(frecuencias, amplitudes)\n",
    "# añadimos las anchuras\n",
    "for p in range(len(peaks)):\n",
    "    ax.add_patch(Rectangle((left_cotas[p], 0), widths[p], amplitudes[peaks][p], color=\"red\", alpha=0.5))\n",
    "    x1 = left_cotas[p]\n",
    "    x2 = right_cotas[p]\n",
    "    y1 = y2 = width_heights[p]\n",
    "    ax.plot([x1, x2], [y1, y2], color=\"black\")\n",
    "\n",
    "# mostramos el gráfico\n",
    "plt.title('Incertidumbres asociadas a cada pico')\n",
    "plt.legend(['Espectro', 'Anchuras calculadas'])\n",
    "plt.xlim([0,100])\n",
    "plt.grid()\n",
    "plt.show()"
   ]
  },
  {
   "cell_type": "markdown",
   "id": "7ab026c1",
   "metadata": {},
   "source": [
    "## Interpolación del espectro para estimar y corregir la localización de los picos\n",
    "\n",
    "Función utilizada: *peak_estimator* con tipo de ventana: 'hann' o 'rect'"
   ]
  },
  {
   "cell_type": "code",
   "execution_count": null,
   "id": "1f32efd0",
   "metadata": {},
   "outputs": [],
   "source": [
    "from numpy import sqrt, sin, pi, sign\n",
    "\n",
    "def peak_estimator(x, y, win=\"rect\"):\n",
    "    def corr_rect(deltaY):\n",
    "        deltaF = 1 / (1 + deltaY)\n",
    "        piDeltaF = pi*deltaF\n",
    "        a = sin(piDeltaF)/piDeltaF\n",
    "        return [deltaF, abs(a)]\n",
    "\n",
    "    def corr_hann(deltaY):\n",
    "        \"\"\"Grandke estimator\"\"\"\n",
    "        deltaF = (2 - deltaY) / (1 + deltaY)\n",
    "        \n",
    "        piDeltaF = pi*deltaF\n",
    "        a = sin(piDeltaF)/piDeltaF\n",
    "        b = 1/(1 - deltaF**2)\n",
    "        return [deltaF, abs(a*b)]\n",
    "    \n",
    "    k0 = np.argmax(y)\n",
    "    if k0 < 1 or k0 > len(y) - 2:\n",
    "        raise ValueError(\"Index out of limits\")\n",
    "        \n",
    "    # obtain neighbour points\n",
    "    ns = (y[k0 - 1], y[k0 + 1])\n",
    "\n",
    "    # line spacing (Hz)\n",
    "    deltaF = x[2] - x[1]\n",
    "\n",
    "    # var deltaY = ys[k0] / Math.max(prev, next);\n",
    "    deltaY = y[k0] / max(ns[0], ns[1])\n",
    "\n",
    "    if win == \"rect\":\n",
    "        deltas = corr_rect(deltaY)\n",
    "    elif win == \"hann\":\n",
    "        deltas = corr_hann(deltaY)\n",
    "    else:\n",
    "        raise ValueError(\"Invalid window type\")\n",
    "\n",
    "    return [x[k0] + deltas[0]*deltaF*sign(ns[1] - ns[0]), y[k0]/deltas[1]]"
   ]
  },
  {
   "cell_type": "code",
   "execution_count": null,
   "id": "d08e2300",
   "metadata": {},
   "outputs": [],
   "source": [
    "# Interpolación del espectro para corregir la localización de los picos\n",
    "peaks_x = []\n",
    "peaks_y = []\n",
    "\n",
    "for p in peaks:\n",
    "    try:\n",
    "        x, y = peak_estimator(frecuencias[p-1:p+2], amplitudes[p-1:p+2], win='hann')\n",
    "        peaks_x.append(x)\n",
    "        peaks_y.append(y)\n",
    "        \n",
    "    except ValueError:\n",
    "        print(\"Error en pico\", p, \". Intervalo:\", (frecuencias[p-1:p+2], amplitudes[p-1:p+2]))\n",
    "        \n",
    "\n",
    "# mostrar los resultados\n",
    "plt.plot(frecuencias, amplitudes)\n",
    "plt.plot(frecuencias[peaks], amplitudes[peaks], 'bo')\n",
    "plt.plot(peaks_x, peaks_y, 'ro')\n",
    "plt.title('Picos del espectro')\n",
    "plt.legend(['Espectro', 'Picos encontrados', 'Picos encontrados corregidos por interpolación'])\n",
    "plt.xlim([0,30])\n",
    "plt.grid()"
   ]
  },
  {
   "cell_type": "code",
   "execution_count": null,
   "id": "27562717",
   "metadata": {},
   "outputs": [],
   "source": [
    "# Cambiamos los valores del espectro por los estimados\n",
    "frecuencias_new = frecuencias.copy()\n",
    "frecuencias_new[peaks] = peaks_x\n",
    "amplitudes_new = amplitudes.copy()\n",
    "amplitudes_new[peaks] = peaks_y"
   ]
  },
  {
   "cell_type": "markdown",
   "id": "61426a7d",
   "metadata": {},
   "source": [
    "## Recalcular la incertidumbre de los picos"
   ]
  },
  {
   "cell_type": "code",
   "execution_count": null,
   "id": "ad3acba5",
   "metadata": {},
   "outputs": [],
   "source": [
    "# Recalcular la anchura o incertidumbre de los nuevos picos\n",
    "prominences_new, left_bases_new, right_bases_new = _peak_prominences(amplitudes_new, peaks, 1)\n",
    "widths_new, width_heights_new, left_ips_new, right_ips_new = _peak_widths(amplitudes_new, peaks, altura_relativa, prominences_new, left_bases_new, right_bases_new)\n",
    "\n",
    "# Calculamos los valores de frecuencia (Hz) de los extremos izquierdos y derechos de las incertidumbres de cada pico\n",
    "left_cotas_new = []\n",
    "right_cotas_new = []\n",
    "\n",
    "for p in range(len(peaks)):\n",
    "    entera_l = int(left_ips_new[p])\n",
    "    decimal_l = left_ips_new[p] - entera_l\n",
    "    entera_r = int(right_ips_new[p])\n",
    "    decimal_r = right_ips_new[p] - entera_r\n",
    "    \n",
    "    left_cotas_new.append((frecuencias[entera_l+1]-frecuencias[entera_l])*decimal_l + frecuencias[entera_l])\n",
    "    right_cotas_new.append((frecuencias[entera_r+1]-frecuencias[entera_r])*decimal_r + frecuencias[entera_r])\n",
    "    \n",
    "# Calculamos los valores de incertidumbre en términos de valores de frecuencia (Hz)\n",
    "widths_new = np.array(right_cotas_new) - np.array(left_cotas_new)"
   ]
  },
  {
   "cell_type": "code",
   "execution_count": null,
   "id": "bfb6bc9b",
   "metadata": {},
   "outputs": [],
   "source": [
    "# Resumen y gráfica\n",
    "print(\"Se han detectado\", len(peaks), \"picos con los siguientes indices:\", peaks)\n",
    "print(\"\\nLos picos corresponden a las siguientes frecuencias: \", frecuencias_new[peaks])\n",
    "print(\"\\nA estos picos se les asocia los siguientes\", len(widths_new), \"valores de incertidumbre:\", widths_new)\n",
    "\n",
    "## Graficar las incertidumbres de cada pico\n",
    "from matplotlib.patches import Rectangle\n",
    "\n",
    "fig, ax = plt.subplots()\n",
    "ax.plot(frecuencias_new, amplitudes_new)\n",
    "# añadimos las anchuras\n",
    "for p in range(len(peaks)):\n",
    "    ax.add_patch(Rectangle((left_cotas_new[p], 0), widths_new[p], amplitudes_new[peaks][p], color=\"red\", alpha=0.5))\n",
    "    x1 = left_cotas_new[p]\n",
    "    x2 = right_cotas_new[p]\n",
    "    y1 = y2 = width_heights_new[p]\n",
    "    ax.plot([x1, x2], [y1, y2], color=\"black\")\n",
    "\n",
    "# mostramos el gráfico\n",
    "plt.title('Incertidumbres asociadas a cada pico')\n",
    "plt.legend(['Espectro', 'Anchuras calculadas'])\n",
    "plt.xlim([40,60])\n",
    "plt.grid()\n",
    "plt.show()"
   ]
  },
  {
   "cell_type": "markdown",
   "id": "91e959ad",
   "metadata": {},
   "source": [
    "## Guardar en un DataFrame los datos obtenidos de picos e incertidumbres"
   ]
  },
  {
   "cell_type": "code",
   "execution_count": null,
   "id": "49e1dd6d",
   "metadata": {
    "scrolled": true
   },
   "outputs": [],
   "source": [
    "# Creamos el DataFrame con los datos de los picos obtenidos\n",
    "import pandas as pd\n",
    "\n",
    "datos_picos = {'Indice pico': peaks, \n",
    "               'Frecuencia dato (Hz)': frecuencias[peaks],\n",
    "               'Frecuencia estimada (Hz)': frecuencias_new[peaks],\n",
    "               'Anchura dato (Hz)': widths,\n",
    "               'Anchura estimada (Hz)': widths_new,\n",
    "               'Altura dato': amplitudes[peaks],\n",
    "              'Altura estimada': amplitudes_new[peaks]}\n",
    "df_picos = pd.DataFrame(datos_picos)\n",
    "df_picos[0:20]"
   ]
  },
  {
   "cell_type": "markdown",
   "id": "dd495c30",
   "metadata": {},
   "source": [
    "## Algoritmo principal de detecicón de series de armónicos\n",
    "\n",
    "El algoritmo propuesto en este script ha sido obtenido del informe científico: *Identification of harmonics and sidebands in a finite set of spectral components (https://hal.archives-ouvertes.fr/hal-00845120v2)*.\n",
    "\n",
    "Timothée Gerber, Nadine Martin, Corinne Mailhes. Identification of harmonics and sidebands in a finite set of spectral components. The Tenth International Conference on Condition Monitoring and Machinery Failure Prevention Technologies (CM & MFPT 2013), Jun 2013, Krakow, Poland.\n",
    "hal-00845120v2"
   ]
  },
  {
   "cell_type": "markdown",
   "id": "2c12608a",
   "metadata": {},
   "source": [
    "### Introducción al algoritmo\n",
    "\n",
    "\n",
    "*The context of our work takes place at the output of a spectral analysis tool which provides a set S of spectral components. Within this set, each component C<sub>i</sub> is characterized by at least its central frequency ν<sub>i</sub>, the uncertainty ∆ν<sub>i</sub> directly linked to the spectral resolution and its amplitude A<sub>i</sub>.\\\n",
    "S = {C<sub>1</sub> (v<sub>1</sub>, ∆ν<sub>1</sub>, A<sub>1</sub>), ..., C<sub>F</sub> (v<sub>F</sub>, ∆ν<sub>F</sub>, A<sub>F</sub>)} where F is the total number of spectral components detected.*\n",
    "\n",
    "*The purpose of this study consists then in identifying the harmonic series and sidebands in the set S of detected spectral components.*\\\n",
    "\n",
    "*Harmonic series identification from estimated components is a nontrivial problem because of estimation errors. In fact, estimation errors do not preserve the accuracy of the relation between an estimated frequency and its harmonics. So, in order to find the harmonic frequency of order r of an estimated frequency ν<sub>i</sub>, looking for a detected component at a frequency exactly equal to r × ν<sub>i</sub> will not be sufficient.\\\n",
    "\\\n",
    "In this paper, we propose to use the uncertainty ∆ν<sub>i</sub> of each detected component to bypass the drawbacks of the non-exact frequency estimation. Each estimated frequency ν<sub>i</sub> is thus represented by a confidence interval of width ∆ν<sub>i</sub> centred on ν<sub>i</sub>. The harmonic detection is then completed by intersection of these intervals, as detailed in what follows.*\n",
    "\n",
    "##################################################\n",
    "\n",
    "Traducción al español:\\\n",
    "El contexto de nuestro trabajo tiene lugar en un conjunto S de componentes espectrales calculadas anteriormente.\n",
    "Dentro de este conjunto, cada componente C<sub>i</sub> se caracteriza por su frecuencia central ν<sub>i</sub>, la incertidumbre ∆ν<sub>i</sub> que está directamente ligada con la resolución espectral y su amplitud A<sub>i</sub>.\\\n",
    "Es decir S = {C<sub>1</sub> (v<sub>1</sub>, ∆ν<sub>1</sub>, A<sub>1</sub>), ..., C<sub>F</sub> (v<sub>F</sub>, ∆ν<sub>F</sub>, A<sub>F</sub>)} donde F es el número total de componentes espectrales detectadas.\n",
    "\n",
    "El propósito de este estudio consiste en identificar la series armónicas y las bandas laterales del conjunto S de componentes espectrales detectadas.\n",
    "\n",
    "La identificación de series armónicas de componentes espectrales estimadas es un problema no trivial a causa de los errores de esstimación. De hecho, los errores de estimación no preservan la precisión de la relación entre la frecuencia estimada y sus armónicos. Así que para encontrar la frecuencia del armónico de orden r de una frecuencia estimada ν<sub>i</sub>, no basta con buscar la componente detectada de la frecuencia exacta r × ν<sub>i</sub>.\\\n",
    "\n",
    "En este paper, se propone usar la incertidumbre ∆ν<sub>i</sub> de cada componente con el objetivo de evitar los inconvenientes de la estimación \"no exacta\" de la frecuencia. Entonces, cada frecuncia estimada ν<sub>i</sub> estará representada por un intervalo de confianza de anchura ∆ν<sub>i</sub> centrada en ν<sub>i</sub>. Posteriormente la detección de armónicos se ejecutará intersecando estos intervalos. Más detalles posteriormente."
   ]
  },
  {
   "cell_type": "code",
   "execution_count": null,
   "id": "42ed4d5c",
   "metadata": {},
   "outputs": [],
   "source": [
    "F = len(peaks)                     # F: numero de componentes detectadas en el espectro\n",
    "v = frecuencias_new[peaks].copy()  # v: frecuencias de los picos\n",
    "Dv = widths.copy()                 # Dv: incertidumbres asociadas a cada pico de frecuencia\n",
    "A = amplitudes_new[peaks].copy()   # A: amplitudes asociadas a cada pico de frecuencia\n",
    "\n",
    "print(\"Tenemos\", F, \"componentes espectrales estimadas.\")\n",
    "print(\"\\nEstas componentes corresponden a las siguientes frecuencias: \\n\", v)"
   ]
  },
  {
   "cell_type": "code",
   "execution_count": null,
   "id": "711e792b",
   "metadata": {},
   "outputs": [],
   "source": [
    "### PARAMETROS A MODIFICAR\n",
    "orden_maximo = 10*F        # Maximo orden con el cual se calcula una frecuencia de la serie\n",
    "\n",
    "criterio_parada = 5        # Numero maximo de veces que no se encuentra armonico, tras el cual\n",
    "                           # el algoritmo deja de iterar (deja de buscar armonicos en la serie)    \n"
   ]
  },
  {
   "cell_type": "markdown",
   "id": "be9a1f5c",
   "metadata": {},
   "source": [
    "### Funciones auxiliares"
   ]
  },
  {
   "cell_type": "code",
   "execution_count": null,
   "id": "73cc7964",
   "metadata": {},
   "outputs": [],
   "source": [
    "## Funcion para calcular los intervalos para cada armonico r de una componente i = [0:F-1]\n",
    "def intervalosarmonicos(i):\n",
    "    \"\"\"\n",
    "    Calcula los intervalos de incertidumbre de cada múltiplo r = 2,..., orden_maximo,\n",
    "    para una componente espectral dada i.\n",
    "    Parametros\n",
    "    ----------\n",
    "    i: int\n",
    "        Índice de la componente en la lista de componentes espectrales.\n",
    "    \n",
    "    Valores de salida\n",
    "    ----------\n",
    "    intervalos: lista de listas\n",
    "        Intervalos de incertidumbre (expresados en forma de lista, \n",
    "        por ejemplo: [0.51 , 0.85]) para cada frecuencia múltiplo.\n",
    "    \"\"\"\n",
    "    intervalos = []\n",
    "    \n",
    "    for r in range(2, orden_maximo):\n",
    "        r_liminf = r * (v[i] - (Dv[i]/2))\n",
    "        r_limsup = r * (v[i] + (Dv[i]/2))\n",
    "        intervalos.append( [r_liminf, r_limsup] )\n",
    "        \n",
    "    return intervalos"
   ]
  },
  {
   "cell_type": "code",
   "execution_count": null,
   "id": "5ecee357",
   "metadata": {},
   "outputs": [],
   "source": [
    "## Calcular los intervalos de cada componente i\n",
    "\n",
    "intervalo_componente = []\n",
    "\n",
    "for j in range(F): \n",
    "    j_liminf = v[j] - (Dv[j]/2)\n",
    "    j_limsup = v[j] + (Dv[j]/2)\n",
    "    intervalo_componente.append( [j_liminf, j_limsup] )"
   ]
  },
  {
   "cell_type": "code",
   "execution_count": null,
   "id": "3c254748",
   "metadata": {},
   "outputs": [],
   "source": [
    "## Funcion para intersecar intervalos\n",
    "def interseccion(intervals):\n",
    "    '''\n",
    "    Funcion que sirve para encontrar la interseccion de varios intervalos.\n",
    "    Argumentos de entrada\n",
    "    ----------\n",
    "    intervals: una lista de listas (intervalos definidos por su cota inf y su cota sup)\n",
    "        Ejemplo: intervals = [[10, 110],[20, 60],[25, 75]]\n",
    "    \n",
    "    Valores de salida\n",
    "    ----------\n",
    "    [start, end] o [] (si la interseccion es vacia)\n",
    "    '''\n",
    "    start, end = intervals.pop() # extrae el ultimo elemento de la lista de intervalos\n",
    "\n",
    "    while intervals:\n",
    "        start_temp, end_temp = intervals.pop() # extrae el siguiente ultimo elemento de la lista de intervalos\n",
    "        start = max(start, start_temp)         # compara los valores con start y end con los extremos del ultimo intervalo\n",
    "        end = min(end, end_temp)\n",
    "        if (start > end):                      # si el valor start es mayor que end, entonces el intervalo es vacío\n",
    "            return []\n",
    "        elif (start <= end):\n",
    "            return [start, end]"
   ]
  },
  {
   "cell_type": "code",
   "execution_count": null,
   "id": "07659f58",
   "metadata": {},
   "outputs": [],
   "source": [
    "## Funcion para detectar el proximo armonico r de una componente i\n",
    "def encontrar_armonico(r,i):\n",
    "    \"\"\"\n",
    "    Funcion que encuentra el armónico de orden r para la componente espectral i.\n",
    "    \n",
    "    Parametros de entrada\n",
    "    ----------\n",
    "    r: int\n",
    "        Orden del armónico. Valor por el que se multiplica la frecuencia fundamental de la componente i,\n",
    "        encontrando así la frecuencia del armónico que se quiere buscar en el espectro.\n",
    "    i: int\n",
    "        Indice de la lista de componentes espectrales.\n",
    "    \n",
    "    Valores de salida\n",
    "    ----------\n",
    "    armonico: float\n",
    "        Frecuencia del armónico encontrado. Si no encuentra armónico, el valor de ese armónico es 0.\n",
    "    indice: int\n",
    "        Indice de la lista de componentes espectrales del armónico encontrado.\n",
    "    \n",
    "    Raises\n",
    "    ------\n",
    "    ValueError\n",
    "        Si hay más de dos intervalos de incertidumbre de las componentes espectrales que cumplen que\n",
    "        su intersección con el intervalo de incertidumbre del armónico de oden r de la componente i, es no vacía.\n",
    "    \"\"\"\n",
    "    c = 0\n",
    "    alista = []\n",
    "    blista = []\n",
    "    \n",
    "    # actualizamos los intervalos de incertidumbre todos los armónicos de i para el nuevo v[i] y Dv[i]\n",
    "    rxvi = intervalosarmonicos(i)\n",
    "    \n",
    "    for j, componente in enumerate(intervalo_componente):  # para cada componente\n",
    "        \n",
    "        # calculamos la interseccion del intervalo de incertidumbre de la componente j con\n",
    "        # el intervalo de incertidumbre del armónico de orden r de la componente i (rxvi[r-2]). \n",
    "        z = interseccion([componente, rxvi[r-2]])\n",
    "        \n",
    "        # Si el intervalo es no vacío:\n",
    "        if z:\n",
    "            # contabilizamos 1 intersección no vacía\n",
    "            c += 1\n",
    "            # añadimos a las listas los extremos del intervalo interseccion\n",
    "            alista.append(z[0]) \n",
    "            blista.append(z[1])\n",
    "            # damos el valor correpondiente al indice encontrado con interseccion no vacia\n",
    "            indice = j\n",
    "                    \n",
    "            a, b = alista[0], blista[0]\n",
    "\n",
    "    # Si se encuentran 2 intervalos que cumplen que la interseccion con rxvi[r-2] es no vacía\n",
    "    if c == 2:\n",
    "        # calcular cual de las dos frecuencias encontradas está más cerca de r x frecuencia componente i\n",
    "        if abs(v[indice-1] - r*v[i]) < abs(v[indice] - r*v[i]):\n",
    "            # actualizamos a, b e indice en consecuencia\n",
    "            a = alista[0]\n",
    "            b = blista[0]\n",
    "            indice -= 1\n",
    "        else:\n",
    "            a, b = alista[1], blista[1]\n",
    "    # Si hay más de 2 intervalos que lo cumplen: mostramos un error.\n",
    "    elif c > 2:\n",
    "        raise ValueError(\"Hay más de 2 intervalos que tienen intersección no vacía. Este algoritmo está diseñado para máximo 2 intervalos.\")\n",
    "        # Posibles mejoras: desarrollar esta parte de la función para más de 2 intervalos con intersección no vacía.\n",
    "    \n",
    "    if not c: # Si no se ha encontrado ningún armónico para ese orden r\n",
    "        armonico = 0\n",
    "        indice = None\n",
    "\n",
    "    else: # Si sí se ha encontrado armónico\n",
    "        armonico = v[indice]\n",
    "        a = float(a)\n",
    "        b = float(b)\n",
    "        # actualizamos los v[i] y Dv[i]\n",
    "        v[i] = (a+b) / (2*r)\n",
    "        Dv[i] = (b-a) / r\n",
    "\n",
    "    return armonico, indice"
   ]
  },
  {
   "cell_type": "code",
   "execution_count": null,
   "id": "7ce86db5",
   "metadata": {},
   "outputs": [],
   "source": [
    "## Funcion para calcular la serie armonica de cada componente i=[0,F-1]\n",
    "def encontrar_seriearmonica(i):\n",
    "    \"\"\"\n",
    "    Calcula la serie armónica de una componente espectral dada i.\n",
    "    Parametros\n",
    "    ----------\n",
    "    i: int\n",
    "        Índice de la componente en la lista de componentes espectrales.\n",
    "    \n",
    "    Valores de salida\n",
    "    ----------\n",
    "    serie_armonica: lista\n",
    "        Lista de los armónicos encontrados para la componente i. Las posiciones de la lista\n",
    "        que contienen un 0 significan que no se ha encontrado armónico para ese orden r\n",
    "    serie_armonica_indices: lista\n",
    "        Lista de índices de las frecuencias de la serie armónica encontrada.\n",
    "    numero_armonicos: int\n",
    "        Número de armónicos de la serie sin contar la frecuencia fundamental.\n",
    "    \"\"\"\n",
    "    serie_armonica = [v[i]]\n",
    "    serie_armonica_indices = [i]\n",
    "    numero_armonicos = 1\n",
    "    k = 0\n",
    "    for r in range(2, orden_maximo):\n",
    "        \n",
    "        # Busca el armónico número r\n",
    "        armonico, indice = encontrar_armonico(r,i)\n",
    "        if (armonico == 0): # Si no encuentra armónico\n",
    "            k += 1\n",
    "        else: # Si encuentra un armónico\n",
    "            numero_armonicos += 1\n",
    "            k = 0\n",
    "            serie_armonica_indices.append(indice)\n",
    "        \n",
    "        # Si después de k veces no ha encontrado armónico, la serie para\n",
    "        if (k == criterio_parada):\n",
    "            serie_armonica = serie_armonica[0:r-k]\n",
    "            break\n",
    "        \n",
    "        serie_armonica.append(armonico)\n",
    "        serie_armonica[0] = v[i] # actualizamos el primer valor de la serie ya que ha sido modificado\n",
    "    \n",
    "    return serie_armonica, serie_armonica_indices, numero_armonicos"
   ]
  },
  {
   "cell_type": "markdown",
   "id": "4c7861bb",
   "metadata": {},
   "source": [
    "#### Programa principal"
   ]
  },
  {
   "cell_type": "code",
   "execution_count": null,
   "id": "2e5bbce5",
   "metadata": {},
   "outputs": [],
   "source": [
    "lista_series = []\n",
    "lista_numero_armonicos = []\n",
    "\n",
    "for i in range(F):\n",
    "    output, indices, numero = encontrar_seriearmonica(i)\n",
    "    \n",
    "    lista_series.append(output)\n",
    "    lista_numero_armonicos.append(numero)\n",
    "    \n",
    "    if numero > 1:\n",
    "        print(\"\\nLa serie armonica encontrada para la componente\", i, \"es:\", output, \"y se compone de\", numero, \"armonicos.\")\n"
   ]
  },
  {
   "cell_type": "markdown",
   "id": "ad51d6b3",
   "metadata": {},
   "source": [
    "### Criterio de caracterización de las series\n",
    "\n",
    "*The proposed method is exhaustive and identifies every harmonic series present in the spectrum. As a consequence, the number of series detected is large and some of them are not always relevant. Nevertheless, in the literature, there is no precise definition of a harmonic series (apart from a mathematical point of view). Moreover, the relevancy of a series depends on the application and the physical context of the studied signals. That is the reason why keeping all the series detected is necessary. Rather than eliminating the “false” series, the proposed method classifies the detected series thanks to the following three characterisation criteria.\\\n",
    "\\\n",
    "These criteria have been chosen as a comparison of each detected series to the corresponding “perfect” one. A “perfect” series is defined as a spectral comb going till the end of the spectrum with no harmonic missing.*\n",
    "\n",
    "#########################################################################\n",
    "\n",
    "Traducción al español:\\\n",
    "El método propuesto es exhaustivo e identifica todas las series armónicas presentes en el espectro. Como consecuencia, el número de series detectadas es muy grande y algunas de las series no son relevantes. Sin embargo, en la literatura, no hay una definición precisa de lo que es una serie armónica (aparte de la definición matemática). Además, la relevancia de cada serie depende de la aplicación o contexto físico de las señales estudiadas. Por esta razón, vamos a tener en cuenta todas las series detectadas. En vez de eliminar las series \"incorrectas\", el método propuesto clasifica las series detectadas gracias a unos criterios de caracterización.\\\n",
    "\n",
    "Estos criterios se han elegido como comparación de cada serie detectada a la serie \"perfecta\" correspondiente. Una serie \"perfecta\" se define como el peine de frecuencias que llega hasta el final del espectro y sin que le falte ningún armónico.\n"
   ]
  },
  {
   "cell_type": "markdown",
   "id": "de9ba0a4",
   "metadata": {},
   "source": [
    "#### First criterion: density (D)\n",
    "\n",
    "The first criterion denoted $D_i$, highlights the density of the series, in order to differentiate series with several harmonics missing from series with almost all harmonics present.\n",
    "\n",
    "$D_i = \\frac{\\text{card}(H_i)}{r_i^{max}}$, with $r_i^{max}$ the rank of the last harmonic in the series $H_i$.\n",
    "\n",
    "A series in which lots of harmonics are missing will have a small density whereas a \"full\" series including all harmonics will have a density equal to 1.\n",
    "\n",
    "#### Primer criterio: densidad (D)\n",
    "\n",
    "El primer criterio denotado como $D_i$ destaca la densidad de la serie, con el objetivo de diferenciar series a las cuales les faltan un número de armónicos con las series que están casi completas o completas.\n",
    "\n",
    "$D_i = \\frac{\\text{card}(H_i)}{r_i^{max}}$, siendo $r_i^{max}$ el orden del último armónico encontrado en la serie $H_i$.\n",
    "\n",
    "Una serie a la cual le faltan muchos armónicos tendrá una densidad pequeña mientras que una serie \"completa\" que incluya todos sus armónicos tendrá una densidad igual a 1."
   ]
  },
  {
   "cell_type": "code",
   "execution_count": null,
   "id": "cfb79044",
   "metadata": {},
   "outputs": [],
   "source": [
    "lista_D = []\n",
    "\n",
    "for i in range(F):\n",
    "    serie, indices, numero_armonicos = encontrar_seriearmonica(i)\n",
    "    if numero_armonicos > 1:\n",
    "        rmax = len(serie)\n",
    "        H = 0\n",
    "        for r in range(len(serie)):\n",
    "            if (serie[r] != 0):\n",
    "                H = H + 1\n",
    "        D = H/rmax\n",
    "    else:\n",
    "        D = 0.0\n",
    "\n",
    "    lista_D.append(D)"
   ]
  },
  {
   "cell_type": "markdown",
   "id": "6527a7b4",
   "metadata": {},
   "source": [
    "#### Second criterion: richness (R)\n",
    "\n",
    "The second criterion is based on $N_i^{max}$ which is the maximum size of the series based on the frequency of its fundamental $ν_i$ and of the highest frequency $ν_F$ in the set S. This has to be compared to $r_i^{max}$ to define the second criterion, the richness $R_i$ of the series.\n",
    "\n",
    "$R_i= \\frac{r_i^{max}}{N_i^{max}}$ with $N_i^{max} = \\text{int}(\\frac{ν_F}{ν_i})$ with int( ) providing the integer part.\n",
    "\n",
    "This will help to consider in a different way two series with the same cardinal and the same harmonic orders.\n",
    "\n",
    "#### Segundo criterio: riqueza (R)\n",
    "\n",
    "El segundo criterio se vasa en $N_i^{max}$ que es el tamaño máximo de la serie basado en su frecuencia fundamental $ν_i$ y en la frecuencia más alta $ν_F$ del conjunto S. Esto se compara con $r_i^{max}$ para definir este segundo criterio, la riqueza $R_i$ de la serie.\n",
    "\n",
    "$R_i= \\frac{r_i^{max}}{N_i^{max}}$ con $N_i^{max} = \\text{int}(\\frac{ν_F}{ν_i})$ siendo int( ) la parte entera.\n",
    "\n",
    "Este criterio ayuda a considerar de manera diferente dos series con el mismo cardinal y los armónicos de los mismos órdenes."
   ]
  },
  {
   "cell_type": "code",
   "execution_count": null,
   "id": "9587e55f",
   "metadata": {},
   "outputs": [],
   "source": [
    "lista_R = []\n",
    "\n",
    "for i in range(F):\n",
    "    serie, indices, numero_armonicos = encontrar_seriearmonica(i)\n",
    "    if numero_armonicos > 1:\n",
    "        rmax = len(serie)\n",
    "        Nmax = int(v[F-1]/serie[0])\n",
    "    \n",
    "        try:\n",
    "            R = rmax/Nmax\n",
    "        except ZeroDivisionError:\n",
    "            R = 0.0   \n",
    "    else: \n",
    "        R = 0.0\n",
    "\n",
    "    lista_R.append(R)"
   ]
  },
  {
   "cell_type": "markdown",
   "id": "41bf92a7",
   "metadata": {},
   "source": [
    "##### Third criterion: Total Harmonic Distortion (THD)\n",
    "\n",
    "$TDH = \\frac{\\sqrt{\\sum \\text{Power of harmonics}^2}}{\\text{Power of fundamental frequency}} = \\frac{\\sqrt{\\sum A_1^2 + ... + A_{N-1}^2}}{A_0}$, where $A_i$ is the amplitude or power of each harmonic detected $i=0,...N-1$ in the series, where $N$ is the total number of harmonics of the series.\n",
    "\n",
    "This criterion will be helpful in applications where amplitude behaviour in harmonic series is known a priori and awaited.\n",
    "\n",
    "\n",
    "##### Tercer criterio: Distorsión armónica total (THD)\n",
    "\n",
    "$TDH = \\frac{\\sqrt{\\sum \\text{Potencia de los armónicos}^2}}{\\text{Potencia de la frecuencia fundamental}} = \\frac{\\sqrt{\\sum A_1^2 + ... + A_{N-1}^2}}{A_0}$, donde $A_i$ es la amplitud o potencia de cada componente $i=0,...N-1$ de la serie armónica, siendo $N$ el número de armónicos de dicha serie.\n",
    "\n",
    "Este criterio es muy útil en aplicaciones donde se sabe la amplitud de la serie armónica a priori."
   ]
  },
  {
   "cell_type": "code",
   "execution_count": null,
   "id": "5e64836e",
   "metadata": {
    "scrolled": true
   },
   "outputs": [],
   "source": [
    "lista_THD = []\n",
    "\n",
    "for i in range(F):\n",
    "    serie, indices, numero_armonicos = encontrar_seriearmonica(i)\n",
    "    if numero_armonicos > 1:\n",
    "        N = len(indices)\n",
    "        THD = np.sqrt( sum(np.power(A[indices[1:N]], [2]*(N-1))) / (A[indices[0]]**2) )\n",
    "    else:\n",
    "        THD = 0.0\n",
    "\n",
    "    lista_THD.append(THD)"
   ]
  },
  {
   "cell_type": "markdown",
   "id": "661b47e4",
   "metadata": {},
   "source": [
    "#### Otro criterio que puede ser útil: número de armónicos encontrados de la serie\n",
    "\n",
    "A desarrollar.\n",
    "\n",
    "Este criterio también puede ser útil. El coeficiente NAS sería más alto cuántos más armónicos haya en la serie detectada."
   ]
  },
  {
   "cell_type": "code",
   "execution_count": null,
   "id": "35bf3c05",
   "metadata": {},
   "outputs": [],
   "source": [
    "lista_NAS = []\n",
    "\n",
    "for i in range(F):\n",
    "    serie, indices, numero_armonicos = encontrar_seriearmonica(i)\n",
    "    NAS = numero_armonicos\n",
    "    lista_NAS.append(NAS)"
   ]
  },
  {
   "cell_type": "markdown",
   "id": "f6ad3355",
   "metadata": {},
   "source": [
    "#### Graficar las puntuaciones de los criterios para cada serie"
   ]
  },
  {
   "cell_type": "code",
   "execution_count": null,
   "id": "0ad51737",
   "metadata": {},
   "outputs": [],
   "source": [
    "## Calculamos una PUNTUACION TOTAL para cada serie encontrada.\n",
    "puntuacion = []\n",
    "for j in range(F):\n",
    "    puntuacion.append( lista_D[j] + lista_R[j] + lista_THD[j] ) #suma ponderada de puntuaciones de los criterios anteriores\n",
    "\n",
    "plt.plot(range(F), puntuacion, range(F), lista_D, range(F), lista_R, range(F), lista_THD)\n",
    "plt.legend(['Puntuacion total', 'Criterio D', 'Criterio R', 'Criterio THD'])"
   ]
  },
  {
   "cell_type": "code",
   "execution_count": null,
   "id": "1764465e",
   "metadata": {
    "scrolled": true
   },
   "outputs": [],
   "source": [
    "## Ordenar las series con las puntuaciones más altas a las más bajas\n",
    "import pandas as pd\n",
    "\n",
    "N = 20 #cuantas series queremos mostrar\n",
    "\n",
    "df = pd.DataFrame([range(F), puntuacion])\n",
    "df = df.transpose()\n",
    "df.columns = ['Indice Serie','Puntuacion']\n",
    "lista = df.nlargest(N, 'Puntuacion')['Indice Serie'] #las N series con puntuaciones más altas\n",
    "lista = [int(k) for k in list(lista)]\n",
    "display(df)\n",
    "display(lista)"
   ]
  },
  {
   "cell_type": "markdown",
   "id": "82ebbda4",
   "metadata": {},
   "source": [
    "### Resultados obtenidos"
   ]
  },
  {
   "cell_type": "code",
   "execution_count": null,
   "id": "2cbbc0de",
   "metadata": {},
   "outputs": [],
   "source": [
    "## Recopilamos toda la información\n",
    "for i in lista:\n",
    "    output, indices, numero_armonicos = encontrar_seriearmonica(i)\n",
    "    print(\"\\nComponente nº:\", i)\n",
    "    print(\"Frecuencia fundamental:\", output[0])\n",
    "    print(\"Puntuación:\", puntuacion[i])\n",
    "    print(\"No. miembros de la serie armónica:\", numero_armonicos)\n",
    "    print(\"Serie armónica encontrada:\", output)\n",
    "    \n",
    "    plt.plot(frecuencias_new, amplitudes_new)\n",
    "    plt.scatter(frecuencias_new[np.array(peaks)[indices]], amplitudes_new[np.array(peaks)[indices]], color = 'r')\n",
    "    plt.title(\"Serie de frecuencia fundamental \" + str(output[0]))\n",
    "    plt.grid()\n",
    "    plt.show()\n",
    "    print(\"____________________________________________________________________________________________________________________\")"
   ]
  },
  {
   "cell_type": "code",
   "execution_count": null,
   "id": "47300235",
   "metadata": {},
   "outputs": [],
   "source": [
    "#Recopilamos toda la informacion en un data frame\n",
    "\n",
    "datos_series = {'Componente': range(F), \n",
    "                'Frecuencia fundamental (Hz)': frecuencias_new[peaks], \n",
    "                'Serie armonica': lista_series,\n",
    "                'Numero armonicos': lista_numero_armonicos,\n",
    "                'Puntuacion total': puntuacion,\n",
    "                'Criterio D': lista_D,\n",
    "                'Criterio R': lista_R,\n",
    "                'Criterio THD': lista_THD}\n",
    "df_series = pd.DataFrame(datos_series)\n",
    "df_series"
   ]
  },
  {
   "cell_type": "code",
   "execution_count": null,
   "id": "f7968261",
   "metadata": {},
   "outputs": [],
   "source": [
    "df_series.sort_values(by = 'Puntuacion total', ascending=False)[0:30]"
   ]
  }
 ],
 "metadata": {
  "kernelspec": {
   "display_name": "Python 3 (ipykernel)",
   "language": "python",
   "name": "python3"
  },
  "language_info": {
   "codemirror_mode": {
    "name": "ipython",
    "version": 3
   },
   "file_extension": ".py",
   "mimetype": "text/x-python",
   "name": "python",
   "nbconvert_exporter": "python",
   "pygments_lexer": "ipython3",
   "version": "3.8.8"
  }
 },
 "nbformat": 4,
 "nbformat_minor": 5
}
